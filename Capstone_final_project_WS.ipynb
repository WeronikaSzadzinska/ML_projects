{
 "cells": [
  {
   "cell_type": "markdown",
   "metadata": {},
   "source": [
    "# Finding the most pet-friendly neighbourhoods in the city of choice (shown on the example of New York City)"
   ]
  },
  {
   "cell_type": "markdown",
   "metadata": {},
   "source": [
    "### Defining project's problem: "
   ]
  },
  {
   "cell_type": "markdown",
   "metadata": {},
   "source": [
    "#### There are 600,000 dogs living in New Your City according to Petcarerx, an online magazine This analysis was created for the city new comers. Moving to a new city can be exciting, but also very stressfull. It can take time before knowing which neighbourhood is most suitable to all persons and person's pet needs. Wide variety of choices might make a simple decision very difficult and might result in the necessity of moving several times. This analysis was created to help narrowing down decision of where to live, to the most pet friendly neighbourhoods. Criteria such as \"dog run\", \"pet cafe\", \"pet store\", \"pet service\" and \"veterinarian\" were taken under consideration. Foursquare database was used as the source of all the information.  "
   ]
  },
  {
   "cell_type": "markdown",
   "metadata": {},
   "source": [
    "# Required data: "
   ]
  },
  {
   "cell_type": "markdown",
   "metadata": {},
   "source": [
    "#### The coordinates of all NYC neighbourhoods were obtained from the JSON file provided in the earlier excercise (week 3 of Capstone project). Based on those locations the API request for Foursquare database was submitted (the explore function). From all obtained categories of venues chosen were categories of interest, \"dog run\", \"pet cafe\", \"pet store\", \"pet service\" and \"veterinarian\". Further, most similar neighbourhoods were clustered together using k-means algorithm. Using Folium library all the neighbourhood clusters were visualized. In the future, the analysis will be extended by re-defining best neighbourhoods to live with a pet, to a 4 blocks area in each neighbourhood. "
   ]
  }
 ],
 "metadata": {
  "kernelspec": {
   "display_name": "Python 3",
   "language": "python",
   "name": "python3"
  },
  "language_info": {
   "codemirror_mode": {
    "name": "ipython",
    "version": 3
   },
   "file_extension": ".py",
   "mimetype": "text/x-python",
   "name": "python",
   "nbconvert_exporter": "python",
   "pygments_lexer": "ipython3",
   "version": "3.7.5"
  }
 },
 "nbformat": 4,
 "nbformat_minor": 2
}
